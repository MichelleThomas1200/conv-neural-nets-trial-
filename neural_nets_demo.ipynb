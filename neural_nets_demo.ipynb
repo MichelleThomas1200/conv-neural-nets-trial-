{
  "nbformat": 4,
  "nbformat_minor": 0,
  "metadata": {
    "colab": {
      "name": "neural-nets-demo.ipynb",
      "provenance": [],
      "authorship_tag": "ABX9TyOOBtbgBwibMiWeJcqU+jRb",
      "include_colab_link": true
    },
    "kernelspec": {
      "name": "python3",
      "display_name": "Python 3"
    },
    "language_info": {
      "name": "python"
    },
    "accelerator": "GPU"
  },
  "cells": [
    {
      "cell_type": "markdown",
      "metadata": {
        "id": "view-in-github",
        "colab_type": "text"
      },
      "source": [
        "<a href=\"https://colab.research.google.com/github/MichelleThomas1200/conv-neural-nets-trial-/blob/main/neural_nets_demo.ipynb\" target=\"_parent\"><img src=\"https://colab.research.google.com/assets/colab-badge.svg\" alt=\"Open In Colab\"/></a>"
      ]
    },
    {
      "cell_type": "code",
      "execution_count": 13,
      "metadata": {
        "id": "7gx2kwfKADTK"
      },
      "outputs": [],
      "source": [
        "#hello there"
      ]
    },
    {
      "cell_type": "code",
      "source": [
        "import numpy as np\n",
        "\n",
        "import matplotlib.pyplot as plt\n",
        "import scipy\n",
        "from PIL import Image\n",
        "from scipy import ndimage\n",
        "\n",
        "import torch\n",
        "import torchvision\n",
        "\n",
        "%matplotlib inline\n",
        "plt.rcParams['figure.figsize'] = (5.0, 4.0) # set default size of plots\n",
        "plt.rcParams['image.interpolation'] = 'nearest'\n",
        "plt.rcParams['image.cmap'] = 'gray'\n",
        "\n",
        "%load_ext autoreload\n",
        "%autoreload 2\n"
      ],
      "metadata": {
        "id": "80e2wm1yAOdO",
        "outputId": "80201ad5-fe54-4306-d54b-d9a97370e6b5",
        "colab": {
          "base_uri": "https://localhost:8080/"
        }
      },
      "execution_count": 14,
      "outputs": [
        {
          "output_type": "stream",
          "name": "stdout",
          "text": [
            "The autoreload extension is already loaded. To reload it, use:\n",
            "  %reload_ext autoreload\n"
          ]
        }
      ]
    },
    {
      "cell_type": "code",
      "source": [
        "#train_x_orig, train_y, test_x_orig, test_y, classes = load_data()\n",
        "\n",
        "!pip install kaggle\n",
        "\n",
        "from google.colab import files \n",
        "files.upload()\n",
        "\n",
        "#Make a directory named kaggle and copy the kaggle.json file there; and change its permissions\n",
        "!mkdir -p ~/.kaggle\n",
        "!cp kaggle.json ~/.kaggle/\n",
        "!chmod 600 ~/.kaggle/kaggle.json\n",
        "\n",
        "#imagenet_data = torchvision.datasets.ImageNet('https://kaggle.com/saroz014/plant-diseases')\n",
        "#data_loader = torch.utils.data.DataLoader(imagenet_data, batch_size=4, shuffle=True, num_workers=args.nThreads)\n",
        "\n",
        "#choose location of kaggle.json\n",
        "#C:\\Users\\micht\\.kaggle"
      ],
      "metadata": {
        "colab": {
          "resources": {
            "http://localhost:8080/nbextensions/google.colab/files.js": {
              "data": "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",
              "ok": true,
              "headers": [
                [
                  "content-type",
                  "application/javascript"
                ]
              ],
              "status": 200,
              "status_text": ""
            }
          },
          "base_uri": "https://localhost:8080/",
          "height": 265
        },
        "id": "JffVKF9dCJj6",
        "outputId": "e40c3cd2-3102-4247-ba97-dd1a5fc9926a"
      },
      "execution_count": 15,
      "outputs": [
        {
          "output_type": "stream",
          "name": "stdout",
          "text": [
            "Requirement already satisfied: kaggle in /usr/local/lib/python3.7/dist-packages (1.5.12)\n",
            "Requirement already satisfied: tqdm in /usr/local/lib/python3.7/dist-packages (from kaggle) (4.63.0)\n",
            "Requirement already satisfied: certifi in /usr/local/lib/python3.7/dist-packages (from kaggle) (2021.10.8)\n",
            "Requirement already satisfied: requests in /usr/local/lib/python3.7/dist-packages (from kaggle) (2.23.0)\n",
            "Requirement already satisfied: python-slugify in /usr/local/lib/python3.7/dist-packages (from kaggle) (6.1.1)\n",
            "Requirement already satisfied: six>=1.10 in /usr/local/lib/python3.7/dist-packages (from kaggle) (1.15.0)\n",
            "Requirement already satisfied: urllib3 in /usr/local/lib/python3.7/dist-packages (from kaggle) (1.24.3)\n",
            "Requirement already satisfied: python-dateutil in /usr/local/lib/python3.7/dist-packages (from kaggle) (2.8.2)\n",
            "Requirement already satisfied: text-unidecode>=1.3 in /usr/local/lib/python3.7/dist-packages (from python-slugify->kaggle) (1.3)\n",
            "Requirement already satisfied: idna<3,>=2.5 in /usr/local/lib/python3.7/dist-packages (from requests->kaggle) (2.10)\n",
            "Requirement already satisfied: chardet<4,>=3.0.2 in /usr/local/lib/python3.7/dist-packages (from requests->kaggle) (3.0.4)\n"
          ]
        },
        {
          "output_type": "display_data",
          "data": {
            "text/plain": [
              "<IPython.core.display.HTML object>"
            ],
            "text/html": [
              "\n",
              "     <input type=\"file\" id=\"files-0376b4c0-d92e-495c-9d20-9560809d520e\" name=\"files[]\" multiple disabled\n",
              "        style=\"border:none\" />\n",
              "     <output id=\"result-0376b4c0-d92e-495c-9d20-9560809d520e\">\n",
              "      Upload widget is only available when the cell has been executed in the\n",
              "      current browser session. Please rerun this cell to enable.\n",
              "      </output>\n",
              "      <script src=\"/nbextensions/google.colab/files.js\"></script> "
            ]
          },
          "metadata": {}
        },
        {
          "output_type": "stream",
          "name": "stdout",
          "text": [
            "Saving kaggle.json to kaggle (1).json\n"
          ]
        }
      ]
    },
    {
      "cell_type": "code",
      "source": [
        "!kaggle datasets download -d saroz014/plant-diseases"
      ],
      "metadata": {
        "colab": {
          "base_uri": "https://localhost:8080/"
        },
        "id": "UCwN3La4DXLv",
        "outputId": "93100f3f-bafd-4d4d-e366-61be108d69de"
      },
      "execution_count": null,
      "outputs": [
        {
          "output_type": "stream",
          "name": "stdout",
          "text": [
            "Downloading plant-diseases.zip to /content\n",
            "100% 6.39G/6.39G [01:09<00:00, 138MB/s]\n",
            "100% 6.39G/6.39G [01:09<00:00, 99.2MB/s]\n"
          ]
        }
      ]
    },
    {
      "cell_type": "code",
      "source": [
        "from zipfile import ZipFile\n",
        "file_name = 'plant-diseases.zip' #the file is your dataset exact name\n",
        "with ZipFile(file_name, 'r') as zip:\n",
        "  #zip.printdir()\n",
        "  zip.extractall()\n",
        "  #zip.close()\n",
        "  print('Done')"
      ],
      "metadata": {
        "colab": {
          "base_uri": "https://localhost:8080/"
        },
        "id": "KkazByS2OKVh",
        "outputId": "9f0ef1de-de50-453b-a391-7130706c6748"
      },
      "execution_count": null,
      "outputs": [
        {
          "output_type": "stream",
          "name": "stdout",
          "text": [
            "Done\n"
          ]
        }
      ]
    },
    {
      "cell_type": "code",
      "source": [
        "#'dataset_itr2\\train\\Tomato__Septoria_leaf_spot'\n",
        "#dataset is in a folder, not a file... so im not sure how to handle this"
      ],
      "metadata": {
        "id": "LgGnV51xRHo8"
      },
      "execution_count": null,
      "outputs": []
    },
    {
      "cell_type": "code",
      "source": [
        "# call extract() method to extract any file by specifying its path in the zip file. #e.g.\n",
        "# zip.extract('python_files/python_wiki.txt')\n",
        "\n",
        "#If you want to read some specific file, :\n",
        "# data = zip.read(name_of_file_to_read)"
      ],
      "metadata": {
        "id": "MVWlbnmbTeBO"
      },
      "execution_count": null,
      "outputs": []
    },
    {
      "cell_type": "code",
      "source": [
        "#to unzip data:\n",
        "# ! unzip plant-diseases.zip -d plant-diseases\n",
        "# !unzip -u \"plant-diseases.zip\" -d \"unzipped-folder\""
      ],
      "metadata": {
        "id": "aJY2mWiRtVkB"
      },
      "execution_count": null,
      "outputs": []
    },
    {
      "cell_type": "code",
      "source": [
        "# DONT EXECUTE EVER!!  ----- unless u accidentally created 2 copies of folder dataset_itr2\n",
        "# !rm -rf unzipped-folder/dataset_itr2/dataset_itr2 "
      ],
      "metadata": {
        "id": "c84sctBY7zUL"
      },
      "execution_count": 16,
      "outputs": []
    },
    {
      "cell_type": "code",
      "source": [
        ""
      ],
      "metadata": {
        "id": "bs841XxdMAev"
      },
      "execution_count": null,
      "outputs": []
    },
    {
      "cell_type": "code",
      "source": [
        "!mkdir -p /content/TestFolder\n",
        "!mkdir -p /content/TrainFolder"
      ],
      "metadata": {
        "id": "9PeMfaGqLgRA"
      },
      "execution_count": null,
      "outputs": []
    },
    {
      "cell_type": "code",
      "source": [
        "import os\n",
        "from torch import utils\n",
        "import shutil\n",
        "\n",
        "dir_path = '/content/dataset_itr2/dataset_itr2/test'\n",
        "cl = os.listdir(dir_path)\n",
        "print(cl)\n",
        "unique_plants = []\n",
        "for i in cl:\n",
        "    x = i.split('_')\n",
        "    if x[0] not in unique_plants:\n",
        "        unique_plants.append(x[0])\n",
        "print(\"Number of Unique Plants: \",len(unique_plants))\n",
        "print(\"Unique Plants: \",unique_plants)\n",
        "\n",
        "#What I wanna do here, is seperate the data based on their unique classes\n",
        "#Creating Directories in another folder to avoid confusion, so mypath is like the target path:\n",
        "my_path = '/content/TestFolder'\n",
        "for u in unique_plants:\n",
        "    new_dir = my_path + '/' + u\n",
        "    if os.path.isdir(new_dir) == False:\n",
        "        os.mkdir(new_dir)\n",
        "        print(new_dir + ' -> Directory created')\n",
        "\n",
        "#moving data into them\n",
        "new_dirs = os.listdir(my_path)\n",
        "#Note : cl holds the original directories as segregated by disease\n",
        "for i in cl:\n",
        "    x = i.split('_')\n",
        "    for d in new_dirs:\n",
        "        if x[0] == d:\n",
        "            #check if folder already exists  \n",
        "            target = my_path + '/' + d\n",
        "            if os.path.isdir(target) == True:\n",
        "                shutil.move(dir_path + '/' + i, target)\n",
        "\n",
        "\n",
        "\n",
        "dir_path = '/content/dataset_itr2/dataset_itr2/train'\n",
        "cl = os.listdir(dir_path)\n",
        "print(cl)\n",
        "unique_plants = []\n",
        "for i in cl:\n",
        "    x = i.split('_')\n",
        "    if x[0] not in unique_plants:\n",
        "        unique_plants.append(x[0])\n",
        "print(\"Number of Unique Plants: \",len(unique_plants))\n",
        "print(\"Unique Plants: \",unique_plants)\n",
        "\n",
        "#What I wanna do here, is seperate the data based on their unique classes\n",
        "#Creating Directories in another folder to avoid confusion, so mypath is like the target path:\n",
        "my_path = '/content/TrainFolder'\n",
        "for u in unique_plants:\n",
        "    new_dir = my_path + '/' + u\n",
        "    if os.path.isdir(new_dir) == False:\n",
        "        os.mkdir(new_dir)\n",
        "        print(new_dir + ' -> Directory created')\n",
        "\n",
        "#moving data into them\n",
        "new_dirs = os.listdir(my_path)\n",
        "#Note : cl holds the original directories as segregated by disease\n",
        "for i in cl:\n",
        "    x = i.split('_')\n",
        "    for d in new_dirs:\n",
        "        if x[0] == d:\n",
        "            #check if folder already exists  \n",
        "            target = my_path + '/' + d\n",
        "            if os.path.isdir(target) == True:\n",
        "                shutil.move(dir_path + '/' + i, target)"
      ],
      "metadata": {
        "colab": {
          "base_uri": "https://localhost:8080/"
        },
        "id": "v02ckfFMNdMA",
        "outputId": "bd749370-405b-446b-9eaa-ba10ae3848db"
      },
      "execution_count": null,
      "outputs": [
        {
          "output_type": "stream",
          "name": "stdout",
          "text": [
            "['Tomato___Bacterial_spot', 'Pepper,_bell___healthy', 'Orange___Haunglongbing_(Citrus_greening)', 'Tomato___Septoria_leaf_spot', 'Blueberry___healthy', 'Squash___Powdery_mildew', 'Tomato___Spider_mites Two-spotted_spider_mite', 'Pepper,_bell___Bacterial_spot', 'Tomato___Tomato_mosaic_virus', 'Peach___Bacterial_spot', 'Tomato___healthy', 'Potato___Late_blight', 'Peach___healthy', 'Tomato___Leaf_Mold', 'Grape___Black_rot', 'Grape___healthy', 'Grape___Leaf_blight_(Isariopsis_Leaf_Spot)', 'Cherry_(including_sour)___healthy', 'Apple___Black_rot', 'Apple___healthy', 'Tomato___Target_Spot', 'Soybean___healthy', 'Apple___Apple_scab', 'Raspberry___healthy', 'Tomato___Late_blight', 'Corn_(maize)___Northern_Leaf_Blight', 'Tomato___Early_blight', 'Strawberry___Leaf_scorch', 'Strawberry___healthy', 'Apple___Cedar_apple_rust', 'Tomato___Tomato_Yellow_Leaf_Curl_Virus', 'Cherry_(including_sour)___Powdery_mildew', 'Corn_(maize)___Cercospora_leaf_spot Gray_leaf_spot', 'Potato___Early_blight', 'Corn_(maize)___healthy', 'Corn_(maize)___Common_rust_', 'Potato___healthy', 'Grape___Esca_(Black_Measles)']\n",
            "Number of Unique Plants:  14\n",
            "Unique Plants:  ['Tomato', 'Pepper,', 'Orange', 'Blueberry', 'Squash', 'Peach', 'Potato', 'Grape', 'Cherry', 'Apple', 'Soybean', 'Raspberry', 'Corn', 'Strawberry']\n",
            "/content/TestFolder/Tomato -> Directory created\n",
            "/content/TestFolder/Pepper, -> Directory created\n",
            "/content/TestFolder/Orange -> Directory created\n",
            "/content/TestFolder/Blueberry -> Directory created\n",
            "/content/TestFolder/Squash -> Directory created\n",
            "/content/TestFolder/Peach -> Directory created\n",
            "/content/TestFolder/Potato -> Directory created\n",
            "/content/TestFolder/Grape -> Directory created\n",
            "/content/TestFolder/Cherry -> Directory created\n",
            "/content/TestFolder/Apple -> Directory created\n",
            "/content/TestFolder/Soybean -> Directory created\n",
            "/content/TestFolder/Raspberry -> Directory created\n",
            "/content/TestFolder/Corn -> Directory created\n",
            "/content/TestFolder/Strawberry -> Directory created\n",
            "['Tomato___Bacterial_spot', 'Pepper,_bell___healthy', 'Orange___Haunglongbing_(Citrus_greening)', 'Tomato___Septoria_leaf_spot', 'Blueberry___healthy', 'Squash___Powdery_mildew', 'Tomato___Spider_mites Two-spotted_spider_mite', 'Pepper,_bell___Bacterial_spot', 'Tomato___Tomato_mosaic_virus', 'Peach___Bacterial_spot', 'Tomato___healthy', 'Potato___Late_blight', 'Peach___healthy', 'Tomato___Leaf_Mold', 'Grape___Black_rot', 'Grape___healthy', 'Grape___Leaf_blight_(Isariopsis_Leaf_Spot)', 'Cherry_(including_sour)___healthy', 'Apple___Black_rot', 'Apple___healthy', 'Tomato___Target_Spot', 'Soybean___healthy', 'Apple___Apple_scab', 'Raspberry___healthy', 'Tomato___Late_blight', 'Corn_(maize)___Northern_Leaf_Blight', 'Tomato___Early_blight', 'Strawberry___Leaf_scorch', 'Strawberry___healthy', 'Apple___Cedar_apple_rust', 'Tomato___Tomato_Yellow_Leaf_Curl_Virus', 'Cherry_(including_sour)___Powdery_mildew', 'Corn_(maize)___Cercospora_leaf_spot Gray_leaf_spot', 'Potato___Early_blight', 'Corn_(maize)___healthy', 'Corn_(maize)___Common_rust_', 'Potato___healthy', 'Grape___Esca_(Black_Measles)']\n",
            "Number of Unique Plants:  14\n",
            "Unique Plants:  ['Tomato', 'Pepper,', 'Orange', 'Blueberry', 'Squash', 'Peach', 'Potato', 'Grape', 'Cherry', 'Apple', 'Soybean', 'Raspberry', 'Corn', 'Strawberry']\n",
            "/content/TrainFolder/Tomato -> Directory created\n",
            "/content/TrainFolder/Pepper, -> Directory created\n",
            "/content/TrainFolder/Orange -> Directory created\n",
            "/content/TrainFolder/Blueberry -> Directory created\n",
            "/content/TrainFolder/Squash -> Directory created\n",
            "/content/TrainFolder/Peach -> Directory created\n",
            "/content/TrainFolder/Potato -> Directory created\n",
            "/content/TrainFolder/Grape -> Directory created\n",
            "/content/TrainFolder/Cherry -> Directory created\n",
            "/content/TrainFolder/Apple -> Directory created\n",
            "/content/TrainFolder/Soybean -> Directory created\n",
            "/content/TrainFolder/Raspberry -> Directory created\n",
            "/content/TrainFolder/Corn -> Directory created\n",
            "/content/TrainFolder/Strawberry -> Directory created\n"
          ]
        }
      ]
    },
    {
      "cell_type": "code",
      "source": [
        "from torchvision import transforms\n",
        "from torchvision import datasets"
      ],
      "metadata": {
        "id": "drsyXBZxPsHR"
      },
      "execution_count": null,
      "outputs": []
    },
    {
      "cell_type": "code",
      "source": [
        "# #import train dataset as tensors\n",
        "# #Sticking to a single species - Cherry\n",
        "# transform =  transforms.Compose([transforms.ToTensor()])\n",
        "\n",
        "# data = datasets.ImageFolder('/content/TrainFolder/Tomato', transform=transform)\n",
        "# #validation and training data can be defined over the 'train' folder itself\n",
        "# split_ratio = 0.3\n",
        "# vSize = int(len(data) * split_ratio)\n",
        "# tSize = len(data) - vSize\n",
        "# train_set, validation_set = utils.data.random_split(data, [tSize, vSize])\n",
        "\n",
        "# #Use Dataloader to load the data into an itterable form\n",
        "# train = utils.data.DataLoader(train_set, batch_size = 64, shuffle = True)\n",
        "# validate = utils.data.DataLoader(validation_set, batch_size = 64, shuffle = True)"
      ],
      "metadata": {
        "id": "KUF6DsPRTLO5"
      },
      "execution_count": null,
      "outputs": []
    },
    {
      "cell_type": "code",
      "source": [
        ""
      ],
      "metadata": {
        "id": "Y7hmugiGTL20"
      },
      "execution_count": null,
      "outputs": []
    },
    {
      "cell_type": "code",
      "source": [
        ""
      ],
      "metadata": {
        "id": "3xZVBV3mRNSL"
      },
      "execution_count": null,
      "outputs": []
    },
    {
      "cell_type": "markdown",
      "source": [
        "#ResNet-50"
      ],
      "metadata": {
        "id": "GYCDR647OfYU"
      }
    },
    {
      "cell_type": "code",
      "source": [
        "from fastai.vision import *"
      ],
      "metadata": {
        "id": "k9o6_4DkkGc4"
      },
      "execution_count": 17,
      "outputs": []
    },
    {
      "cell_type": "code",
      "source": [
        "import torch.nn as nn\n",
        "import torch.optim as optim\n",
        "from torch.optim import lr_scheduler\n",
        "from torchvision import datasets, models, transforms\n",
        "\n",
        "import copy\n",
        "import time"
      ],
      "metadata": {
        "id": "NsG2XkRmnHi4"
      },
      "execution_count": 18,
      "outputs": []
    },
    {
      "cell_type": "code",
      "source": [
        "# from PIL import Image\n",
        "# img = Image.open('/content/TrainFolder/Tomato/Tomato___Bacterial_spot/00416648-be6e-4bd4-bc8d-82f43f8a7240___GCREC_Bact.Sp 3110.JPG')\n",
        "# # print(img)\n",
        "# imgTensor = transforms.ToTensor()(img)\n",
        "# # print(imgTensor)"
      ],
      "metadata": {
        "id": "EpE-IGdsnywp"
      },
      "execution_count": 26,
      "outputs": []
    },
    {
      "cell_type": "code",
      "source": [
        "from fastai.callbacks.hooks import num_features_model\n",
        "\n",
        "#define device\n",
        "device = torch.device(\"cuda\" if torch.cuda.is_available() else \"cpu\")\n",
        "PATH = 'model.pth' # to save model\n",
        "\n",
        "#load data\n",
        "data_transforms = {\n",
        "\n",
        "    'TrainFolder/Tomato' : transforms.Compose([\n",
        "        transforms.RandomResizedCrop(256),\n",
        "        transforms.RandomHorizontalFlip(),\n",
        "        transforms.ToTensor(),\n",
        "        transforms.Normalize([0.485, 0.456, 0.406], [0.229, 0.224, 0.225])\n",
        "    ]),\n",
        "    'TestFolder/Tomato': transforms.Compose([\n",
        "        transforms.Resize(256),\n",
        "        transforms.CenterCrop(256),#\n",
        "        transforms.ToTensor(),\n",
        "        transforms.Normalize([0.485, 0.456, 0.406], [0.229, 0.224, 0.225])\n",
        "\n",
        "    ])\n",
        "}\n",
        "data_dir = '/content'\n",
        "\n",
        "#create custom dataset\n",
        "image_datasets = {x: datasets.ImageFolder(os.path.join(data_dir, x), data_transforms[x]) for x in ['TrainFolder/Tomato', 'TestFolder/Tomato']}\n",
        "\n",
        "\n",
        "dataloader = {x: torch.utils.data.DataLoader(image_datasets[x], batch_size = 4, shuffle = True, num_workers = 2) for x in ['TrainFolder/Tomato', 'TestFolder/Tomato']}\n",
        "\n",
        "dataset_sizes = {x: len(image_datasets[x]) for x in ['TrainFolder/Tomato', 'TestFolder/Tomato'] }\n",
        "\n",
        "class_names = image_datasets['TrainFolder/Tomato'].classes\n",
        "#print(class_names)\n",
        "#['Tomato___Bacterial_spot', 'Tomato___Early_blight', 'Tomato___Late_blight', 'Tomato___Leaf_Mold', 'Tomato___Septoria_leaf_spot', 'Tomato___Spider_mites Two-spotted_spider_mite', 'Tomato___Target_Spot', 'Tomato___Tomato_Yellow_Leaf_Curl_Virus', 'Tomato___Tomato_mosaic_virus', 'Tomato___healthy']\n",
        "\n"
      ],
      "metadata": {
        "id": "CO8mzI1ujHQG"
      },
      "execution_count": 39,
      "outputs": []
    },
    {
      "cell_type": "code",
      "source": [
        "#Training\n",
        "\n",
        "def train_model(model, criterion, optimizer, scheduler, num_epochs=2):\n",
        "  since = time.time() #to know time taken to train model\n",
        "  best_model_wts = copy.deepcopy( model.state_dict()) #saving model weights\n",
        "  best_acc = 0.0\n",
        "\n",
        "  for epoch in range(num_epochs):\n",
        "    print('Epoch {}/{}'.format(epoch, num_epochs-1))\n",
        "    print(\"-\" *18)\n",
        "\n",
        "    #num of epochs for training n validation phase\n",
        "    for phase in ['TrainFolder/Tomato', 'TestFolder/Tomato']:\n",
        "      if phase == 'TrainFolder/Tomato':\n",
        "        model.train() #to train\n",
        "      else:\n",
        "        model.eval() #to evaluate model\n",
        "      \n",
        "      running_loss = 0.0\n",
        "      running_corrests = 0\n",
        "\n",
        "      ##Iterating through data\n",
        "      for inputs, labels in dataloader[phase]:\n",
        "        inputs = inputs.to(device)\n",
        "        labels = labels.to(device)\n",
        "\n",
        "        #zero-th parameter gradients\n",
        "        optimizer.zero_grad()\n",
        "\n",
        "        # forward propagation\n",
        "        # track history of training\n",
        "        with torch.set_grad_enabled(phase == 'TrainFolder/Tomato'):\n",
        "          outputs = model(inputs)\n",
        "          _, preds = torch.max(outputs, 1)\n",
        "          loss = criterion(outputs, labels)\n",
        "\n",
        "          # backward + optimize only if in training phase\n",
        "          if phase == 'TrainFolder/Tomato':\n",
        "            loss.backward()\n",
        "            optimizer.step()\n",
        "\n",
        "        #generating some stats\n",
        "        running_loss += loss.item() * inputs.size(0)\n",
        "        running_corrests += torch.sum(preds == labels.data)\n",
        "\n",
        "      if phase == 'TrainFolder/Tomato':\n",
        "        scheduler.step()\n",
        "\n",
        "      epoch_loss = running_loss / dataset_sizes[phase]\n",
        "      epoch_acc = running_corrests.double() / dataset_sizes[phase]\n",
        "\n",
        "      print(' {} Loss: {:.4f} \\t Acc: {:.4f}'.format(phase, epoch_loss, epoch_acc))\n",
        "\n",
        "      # Deep copy the model\n",
        "      if phase == 'TestFolder/Tomato' and epoch_acc > best_acc:\n",
        "        best_model_wts = copy.deepcopy(model.state_dict())\n",
        "        torch.save(model.state_dict(), \"./best-model-checkpoint.pt\")\n",
        "        best_acc = epoch_acc\n",
        "\n",
        "    print()\n",
        "\n",
        "  time_elapsed = time.time() - since\n",
        "  print(\"Training Completed in time {:.0f}m {:.0f}s \".format(time_elapsed//60, time_elapsed % 60))\n",
        "  print('Best val Acc: {:4f}'.format(best_acc))\n",
        "\n",
        "  #loading best model weights\n",
        "  model.load_state_dict(best_model_wts)\n",
        "  return model\n"
      ],
      "metadata": {
        "id": "5aGQ54kUjWqG"
      },
      "execution_count": 40,
      "outputs": []
    },
    {
      "cell_type": "code",
      "source": [
        "model_ft = models.resnet50(pretrained = True)\n",
        "\n",
        "num_ftrs = model_ft.fc.in_features\n",
        "\n",
        "model_ft.fc = nn.Linear(num_ftrs, 10) #there r 10 classes in Tomato\n",
        "\n",
        "model_ft = model_ft.to(device)\n",
        "\n",
        "#Loss function\n",
        "criterion = nn.CrossEntropyLoss()\n",
        "#define optimizer\n",
        "optimizer_ft = optim.Adam(model_ft.parameters(), lr = 0.001)\n",
        "\n",
        "#define scheduler\n",
        "exp_lr_scheduler = lr_scheduler.StepLR(optimizer_ft, step_size = 7, gamma = 0.1)\n",
        "\n",
        "model_ft = train_model(model_ft, criterion, optimizer_ft, exp_lr_scheduler, num_epochs = 2)\n",
        "\n",
        "torch.save(model_ft.state_dict(), './my2epochmodel.pth')\n",
        "\n",
        "print('\\nSaving the model...')\n",
        "torch.save(model_ft, PATH)\n",
        "\n",
        "print('Model Saved!')\n"
      ],
      "metadata": {
        "id": "ZJ1Mr_6yuXxX",
        "outputId": "a0baf0e3-2320-4361-97a9-a7fab586f2bd",
        "colab": {
          "base_uri": "https://localhost:8080/"
        }
      },
      "execution_count": 41,
      "outputs": [
        {
          "output_type": "stream",
          "name": "stdout",
          "text": [
            "Epoch 0/1\n",
            "------------------\n",
            " TrainFolder/Tomato Loss: 0.9611 \t Acc: 0.6728\n",
            " TestFolder/Tomato Loss: 0.3975 \t Acc: 0.8846\n",
            "\n",
            "Epoch 1/1\n",
            "------------------\n",
            " TrainFolder/Tomato Loss: 0.4269 \t Acc: 0.8552\n",
            " TestFolder/Tomato Loss: 0.3744 \t Acc: 0.8926\n",
            "\n",
            "Training Completed in time 110m 34s \n",
            "Best val Acc: 0.892641\n",
            "\n",
            "Saving the model...\n",
            "Model Saved!\n"
          ]
        }
      ]
    },
    {
      "cell_type": "code",
      "source": [
        ""
      ],
      "metadata": {
        "id": "wIdWU32nvlLY"
      },
      "execution_count": null,
      "outputs": []
    }
  ]
}