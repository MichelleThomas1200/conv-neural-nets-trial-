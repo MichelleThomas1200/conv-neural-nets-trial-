{
  "nbformat": 4,
  "nbformat_minor": 0,
  "metadata": {
    "colab": {
      "name": "neural-nets-demo.ipynb",
      "provenance": [],
      "authorship_tag": "ABX9TyMj+Ecoz+mtOwkftLklE+n3",
      "include_colab_link": true
    },
    "kernelspec": {
      "name": "python3",
      "display_name": "Python 3"
    },
    "language_info": {
      "name": "python"
    }
  },
  "cells": [
    {
      "cell_type": "markdown",
      "metadata": {
        "id": "view-in-github",
        "colab_type": "text"
      },
      "source": [
        "<a href=\"https://colab.research.google.com/github/MichelleThomas1200/neural-nets-demo-/blob/main/neural_nets_demo.ipynb\" target=\"_parent\"><img src=\"https://colab.research.google.com/assets/colab-badge.svg\" alt=\"Open In Colab\"/></a>"
      ]
    },
    {
      "cell_type": "code",
      "execution_count": 1,
      "metadata": {
        "id": "7gx2kwfKADTK"
      },
      "outputs": [],
      "source": [
        "#hello there"
      ]
    },
    {
      "cell_type": "code",
      "source": [
        ""
      ],
      "metadata": {
        "id": "80e2wm1yAOdO"
      },
      "execution_count": null,
      "outputs": []
    }
  ]
}